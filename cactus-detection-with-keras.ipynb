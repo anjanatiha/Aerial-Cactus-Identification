{
 "cells": [
  {
   "cell_type": "markdown",
   "metadata": {
    "_uuid": "b1ca1df7f5915973755864390b0003fa660cf60d"
   },
   "source": [
    "# Cactus Detection from Images using Deep Learning"
   ]
  },
  {
   "cell_type": "markdown",
   "metadata": {
    "_uuid": "1139e3ffd2535759da620e22c5cf5a8a09d72b79"
   },
   "source": []
  },
  {
   "cell_type": "markdown",
   "metadata": {
    "_uuid": "11aa55f3db0dec51c09334c64fae7f56b1a2cde1"
   },
   "source": [
    "# 1. Import \n"
   ]
  },
  {
   "cell_type": "code",
   "execution_count": 1,
   "metadata": {
    "_uuid": "ae198668fcf74479c92b2dfbf2dc3f291b599d0e"
   },
   "outputs": [
    {
     "name": "stderr",
     "output_type": "stream",
     "text": [
      "Using TensorFlow backend.\n"
     ]
    },
    {
     "name": "stdout",
     "output_type": "stream",
     "text": [
      "['train', 'test', 'train.csv', 'sample_submission.csv']\n"
     ]
    }
   ],
   "source": [
    "# System\n",
    "import sys\n",
    "import os\n",
    "import argparse\n",
    "\n",
    "# Time\n",
    "import time\n",
    "import datetime\n",
    "\n",
    "# Numerical Data\n",
    "import random\n",
    "import numpy as np \n",
    "import pandas as pd\n",
    "\n",
    "# Tools\n",
    "import shutil\n",
    "from glob import glob\n",
    "from tqdm import tqdm\n",
    "import gc\n",
    "\n",
    "# NLP\n",
    "import re\n",
    "\n",
    "# Preprocessing\n",
    "from sklearn import preprocessing\n",
    "from sklearn.utils import class_weight as cw\n",
    "from sklearn.utils import shuffle\n",
    "\n",
    "# Model Selection\n",
    "from sklearn.model_selection import train_test_split\n",
    "from sklearn.model_selection import GridSearchCV\n",
    "from sklearn.model_selection import cross_val_score\n",
    "\n",
    "# Machine Learning Models\n",
    "from sklearn import svm\n",
    "from sklearn.svm import LinearSVC, SVC\n",
    "\n",
    "# Evaluation Metrics\n",
    "from sklearn import metrics \n",
    "from sklearn.metrics import f1_score, accuracy_score, precision_score, recall_score, confusion_matrix, classification_report, roc_auc_score\n",
    "\n",
    "\n",
    "# Deep Learning - Keras -  Preprocessing\n",
    "from keras.preprocessing.image import ImageDataGenerator\n",
    "\n",
    "# Deep Learning - Keras - Model\n",
    "import keras\n",
    "from keras import models\n",
    "from keras.models import Model\n",
    "from keras.models import Sequential\n",
    "\n",
    "# Deep Learning - Keras - Layers\n",
    "from keras.layers import Convolution1D, concatenate, SpatialDropout1D, GlobalMaxPool1D, GlobalAvgPool1D, Embedding, \\\n",
    "    Conv2D, SeparableConv1D, Add, BatchNormalization, Activation, GlobalAveragePooling2D, LeakyReLU, Flatten\n",
    "from keras.layers import Dense, Input, Dropout, MaxPooling2D, Concatenate, GlobalMaxPooling2D, GlobalAveragePooling2D, \\\n",
    "    Lambda, Multiply, LSTM, Bidirectional, PReLU, MaxPooling1D\n",
    "from keras.layers.pooling import _GlobalPooling1D\n",
    "\n",
    "from keras.regularizers import l2\n",
    "\n",
    "# Deep Learning - Keras - Pretrained Models\n",
    "from keras.applications.xception import Xception\n",
    "from keras.applications.resnet50 import ResNet50\n",
    "from keras.applications.inception_v3 import InceptionV3\n",
    "from keras.applications.inception_resnet_v2 import InceptionResNetV2\n",
    "from keras.applications.densenet import DenseNet201\n",
    "from keras.applications.nasnet import NASNetMobile, NASNetLarge\n",
    "\n",
    "from keras.applications.nasnet import preprocess_input\n",
    "\n",
    "# Deep Learning - Keras - Model Parameters and Evaluation Metrics\n",
    "from keras import optimizers\n",
    "from keras.optimizers import Adam, SGD , RMSprop\n",
    "from keras.losses import mae, sparse_categorical_crossentropy, binary_crossentropy\n",
    "\n",
    "# Deep Learning - Keras - Visualisation\n",
    "from keras.callbacks import ModelCheckpoint, EarlyStopping, TensorBoard, ReduceLROnPlateau\n",
    "# from keras.wrappers.scikit_learn import KerasClassifier\n",
    "from keras import backend as K\n",
    "\n",
    "# Deep Learning - TensorFlow\n",
    "import tensorflow as tf\n",
    "\n",
    "# Graph/ Visualization\n",
    "import matplotlib.pyplot as plt\n",
    "from matplotlib.pyplot import figure\n",
    "import matplotlib.image as mpimg\n",
    "import seaborn as sns\n",
    "from mlxtend.plotting import plot_confusion_matrix\n",
    "\n",
    "# Image\n",
    "import cv2\n",
    "from PIL import Image\n",
    "from IPython.display import display\n",
    "\n",
    "# np.random.seed(42)\n",
    "\n",
    "%matplotlib inline\n",
    "\n",
    "# Input data\n",
    "print(os.listdir(\"../input\"))"
   ]
  },
  {
   "cell_type": "markdown",
   "metadata": {
    "_uuid": "43ec897e74117506f17611b58af485a2e013e848"
   },
   "source": [
    "# 2. Functions"
   ]
  },
  {
   "cell_type": "code",
   "execution_count": 2,
   "metadata": {
    "_uuid": "cbe4bc8e76957ae5b139e87a19e75e51be7af414"
   },
   "outputs": [],
   "source": [
    "def date_time(x):\n",
    "    if x==1:\n",
    "        return 'Timestamp: {:%Y-%m-%d %H:%M:%S}'.format(datetime.datetime.now())\n",
    "    if x==2:    \n",
    "        return 'Timestamp: {:%Y-%b-%d %H:%M:%S}'.format(datetime.datetime.now())\n",
    "    if x==3:  \n",
    "        return 'Date now: %s' % datetime.datetime.now()\n",
    "    if x==4:  \n",
    "        return 'Date today: %s' % datetime.date.today()  "
   ]
  },
  {
   "cell_type": "markdown",
   "metadata": {
    "_uuid": "cc1f975dabb307ccf1c219b5021dfc4a97a7a117"
   },
   "source": [
    "# 3. Input Configuration"
   ]
  },
  {
   "cell_type": "code",
   "execution_count": 3,
   "metadata": {
    "_uuid": "a8a36cda21a37ddf8002c994b682d91a81c59b56"
   },
   "outputs": [],
   "source": [
    "input_directory = r\"../input/\"\n",
    "output_directory = r\"../output/\"\n",
    "\n",
    "training_dir = input_directory + \"train/train\"\n",
    "testing_dir = input_directory + r\"test/test\"\n",
    "\n",
    "if not os.path.exists(output_directory):\n",
    "    os.mkdir(output_directory)\n",
    "    \n",
    "figure_directory = \"../output/figures\"\n",
    "if not os.path.exists(figure_directory):\n",
    "    os.mkdir(figure_directory)\n",
    "    \n",
    "    \n",
    "file_name_pred_batch = figure_directory+r\"/result\"\n",
    "file_name_pred_sample = figure_directory+r\"/sample\""
   ]
  },
  {
   "cell_type": "code",
   "execution_count": 4,
   "metadata": {
    "_uuid": "2bd626b286efbc7ca36291ad5b856c25d8c2da52"
   },
   "outputs": [
    {
     "data": {
      "text/html": [
       "<div>\n",
       "<style scoped>\n",
       "    .dataframe tbody tr th:only-of-type {\n",
       "        vertical-align: middle;\n",
       "    }\n",
       "\n",
       "    .dataframe tbody tr th {\n",
       "        vertical-align: top;\n",
       "    }\n",
       "\n",
       "    .dataframe thead th {\n",
       "        text-align: right;\n",
       "    }\n",
       "</style>\n",
       "<table border=\"1\" class=\"dataframe\">\n",
       "  <thead>\n",
       "    <tr style=\"text-align: right;\">\n",
       "      <th></th>\n",
       "      <th>id</th>\n",
       "      <th>has_cactus</th>\n",
       "    </tr>\n",
       "  </thead>\n",
       "  <tbody>\n",
       "    <tr>\n",
       "      <th>0</th>\n",
       "      <td>0004be2cfeaba1c0361d39e2b000257b.jpg</td>\n",
       "      <td>has_cactus</td>\n",
       "    </tr>\n",
       "    <tr>\n",
       "      <th>1</th>\n",
       "      <td>000c8a36845c0208e833c79c1bffedd1.jpg</td>\n",
       "      <td>has_cactus</td>\n",
       "    </tr>\n",
       "    <tr>\n",
       "      <th>2</th>\n",
       "      <td>000d1e9a533f62e55c289303b072733d.jpg</td>\n",
       "      <td>has_cactus</td>\n",
       "    </tr>\n",
       "    <tr>\n",
       "      <th>3</th>\n",
       "      <td>0011485b40695e9138e92d0b3fb55128.jpg</td>\n",
       "      <td>has_cactus</td>\n",
       "    </tr>\n",
       "    <tr>\n",
       "      <th>4</th>\n",
       "      <td>0014d7a11e90b62848904c1418fc8cf2.jpg</td>\n",
       "      <td>has_cactus</td>\n",
       "    </tr>\n",
       "  </tbody>\n",
       "</table>\n",
       "</div>"
      ],
      "text/plain": [
       "                                     id  has_cactus\n",
       "0  0004be2cfeaba1c0361d39e2b000257b.jpg  has_cactus\n",
       "1  000c8a36845c0208e833c79c1bffedd1.jpg  has_cactus\n",
       "2  000d1e9a533f62e55c289303b072733d.jpg  has_cactus\n",
       "3  0011485b40695e9138e92d0b3fb55128.jpg  has_cactus\n",
       "4  0014d7a11e90b62848904c1418fc8cf2.jpg  has_cactus"
      ]
     },
     "execution_count": 4,
     "metadata": {},
     "output_type": "execute_result"
    }
   ],
   "source": [
    "m = {0:'has_no_cactus', 1:'has_cactus'}\n",
    "\n",
    "train_df = pd.read_csv(input_directory + \"train.csv\")\n",
    "train_df['has_cactus'] = train_df['has_cactus'].map(m)\n",
    "train_df.head()"
   ]
  },
  {
   "cell_type": "code",
   "execution_count": 5,
   "metadata": {
    "_uuid": "0c3c64e9b9ee860ada1e66978d0354c4c8279189"
   },
   "outputs": [],
   "source": [
    "# test_df = pd.DataFrame()\n",
    "# test_df[\"id\"] = os.listdir(testing_dir)\n",
    "# test_df[\"has_cactus\"] = \"None\"\n",
    "# # test_df['has_cactus'] = test_df['has_cactus'].map(lambda x: \"None\")\n",
    "# test_df.head()"
   ]
  },
  {
   "cell_type": "code",
   "execution_count": 6,
   "metadata": {
    "_uuid": "7abcb11ec076b4c916a7ea219fe57e9f03114a2a"
   },
   "outputs": [
    {
     "data": {
      "text/html": [
       "<div>\n",
       "<style scoped>\n",
       "    .dataframe tbody tr th:only-of-type {\n",
       "        vertical-align: middle;\n",
       "    }\n",
       "\n",
       "    .dataframe tbody tr th {\n",
       "        vertical-align: top;\n",
       "    }\n",
       "\n",
       "    .dataframe thead th {\n",
       "        text-align: right;\n",
       "    }\n",
       "</style>\n",
       "<table border=\"1\" class=\"dataframe\">\n",
       "  <thead>\n",
       "    <tr style=\"text-align: right;\">\n",
       "      <th></th>\n",
       "      <th>id</th>\n",
       "      <th>has_cactus</th>\n",
       "    </tr>\n",
       "  </thead>\n",
       "  <tbody>\n",
       "    <tr>\n",
       "      <th>0</th>\n",
       "      <td>000940378805c44108d287872b2f04ce.jpg</td>\n",
       "      <td>None</td>\n",
       "    </tr>\n",
       "    <tr>\n",
       "      <th>1</th>\n",
       "      <td>0017242f54ececa4512b4d7937d1e21e.jpg</td>\n",
       "      <td>None</td>\n",
       "    </tr>\n",
       "    <tr>\n",
       "      <th>2</th>\n",
       "      <td>001ee6d8564003107853118ab87df407.jpg</td>\n",
       "      <td>None</td>\n",
       "    </tr>\n",
       "    <tr>\n",
       "      <th>3</th>\n",
       "      <td>002e175c3c1e060769475f52182583d0.jpg</td>\n",
       "      <td>None</td>\n",
       "    </tr>\n",
       "    <tr>\n",
       "      <th>4</th>\n",
       "      <td>0036e44a7e8f7218e9bc7bf8137e4943.jpg</td>\n",
       "      <td>None</td>\n",
       "    </tr>\n",
       "  </tbody>\n",
       "</table>\n",
       "</div>"
      ],
      "text/plain": [
       "                                     id has_cactus\n",
       "0  000940378805c44108d287872b2f04ce.jpg       None\n",
       "1  0017242f54ececa4512b4d7937d1e21e.jpg       None\n",
       "2  001ee6d8564003107853118ab87df407.jpg       None\n",
       "3  002e175c3c1e060769475f52182583d0.jpg       None\n",
       "4  0036e44a7e8f7218e9bc7bf8137e4943.jpg       None"
      ]
     },
     "execution_count": 6,
     "metadata": {},
     "output_type": "execute_result"
    }
   ],
   "source": [
    "test_df = pd.read_csv(input_directory + \"sample_submission.csv\")\n",
    "test_df['has_cactus'] = test_df['has_cactus'].map(lambda x: \"None\")\n",
    "test_df.head()"
   ]
  },
  {
   "cell_type": "markdown",
   "metadata": {
    "_uuid": "9e02a5a1b4538b67bf351ec59a9cfd7f832fb0e3"
   },
   "source": [
    "# 4. Visualization"
   ]
  },
  {
   "cell_type": "code",
   "execution_count": 7,
   "metadata": {
    "_uuid": "90fed2e4b122755b68312621acd1cbfa6bdd3ddd"
   },
   "outputs": [],
   "source": [
    "def plot_image(file, directory=None, sub=False, aspect=None):\n",
    "    path = directory + \"/\" + file\n",
    "    \n",
    "    img = plt.imread(path)\n",
    "    \n",
    "    plt.imshow(img, aspect=aspect)\n",
    "#     plt.title(file)\n",
    "    plt.xticks([])\n",
    "    plt.yticks([])\n",
    "    \n",
    "    if sub:\n",
    "        plt.show()\n",
    "        \n",
    "def plot_img_dir(directory=training_dir, count=5):\n",
    "    selected_files = random.sample(os.listdir(directory), count)\n",
    "    \n",
    "    ncols = 5\n",
    "    nrows = count//ncols if count%ncols==0 else count//ncols+1\n",
    "    \n",
    "    figsize=(20, ncols*nrows)\n",
    "\n",
    "    ticksize = 14\n",
    "    titlesize = ticksize + 8\n",
    "    labelsize = ticksize + 5\n",
    "\n",
    "\n",
    "    params = {'figure.figsize' : figsize,\n",
    "              'axes.labelsize' : labelsize,\n",
    "              'axes.titlesize' : titlesize,\n",
    "              'xtick.labelsize': ticksize,\n",
    "              'ytick.labelsize': ticksize}\n",
    "\n",
    "    plt.rcParams.update(params)\n",
    "    \n",
    "    i=0\n",
    "    \n",
    "    for file in selected_files:        \n",
    "        plt.subplot(nrows, ncols, i+1)\n",
    "        path = directory + file\n",
    "        plot_image(file, directory, aspect=None)\n",
    "\n",
    "        i=i+1\n",
    "    \n",
    "    plt.tight_layout()\n",
    "    plt.show()\n",
    "    \n",
    "def plot_img_df(directory=None, df=None, filename=\"id\", label = \"label\", count=5):\n",
    "    label_map = {}\n",
    "    \n",
    "    classes = list(set(df[label]))\n",
    "    \n",
    "    for l in classes:\n",
    "        label_map[l] = df[df[label]==l][filename]\n",
    "        label_map[l] = label_map[l].sample(count, replace=True)\n",
    "        \n",
    "    \n",
    "    \n",
    "    ncols = 5\n",
    "    nrows = count//ncols if count%ncols==0 else count//ncols+1\n",
    "#     print(nrows, ncols)\n",
    "    \n",
    "    figsize=(20, ncols*nrows)\n",
    "\n",
    "    ticksize = 14\n",
    "    titlesize = ticksize + 8\n",
    "    labelsize = ticksize + 5\n",
    "\n",
    "\n",
    "    params = {'figure.figsize' : figsize,\n",
    "              'axes.labelsize' : labelsize,\n",
    "              'axes.titlesize' : titlesize,\n",
    "              'xtick.labelsize': ticksize,\n",
    "              'ytick.labelsize': ticksize}\n",
    "\n",
    "    plt.rcParams.update(params)\n",
    "    \n",
    "    i=0\n",
    "    \n",
    "    for label in label_map:\n",
    "        print(label)\n",
    "        j=0\n",
    "        for id, file in label_map[label].iteritems():\n",
    "            plt.subplot(nrows, 5, j+1)\n",
    "            plot_image(file, directory, aspect='auto')\n",
    "            j=j+1\n",
    "            \n",
    "        plt.tight_layout()\n",
    "        plt.show()\n",
    "        \n",
    "        i+=1\n",
    "        \n",
    "def plot_img_dir_main(directory=training_dir, count=5):\n",
    "    labels = os.listdir(directory)\n",
    "    for label in labels:\n",
    "        print(label)\n",
    "        plot_img_dir(directory=directory+\"/\"+label+\"/\", count=count)\n",
    "        "
   ]
  },
  {
   "cell_type": "code",
   "execution_count": 8,
   "metadata": {
    "_uuid": "0e6059fc1714fba66dfd160d7a37c9bfd0566594"
   },
   "outputs": [
    {
     "name": "stdout",
     "output_type": "stream",
     "text": [
      "has_no_cactus\n"
     ]
    },
    {
     "data": {
      "image/png": "[encoded data removed]",
      "text/plain": [
       "<Figure size 1440x360 with 5 Axes>"
      ]
     },
     "metadata": {},
     "output_type": "display_data"
    },
    {
     "name": "stdout",
     "output_type": "stream",
     "text": [
      "has_cactus\n"
     ]
    },
    {
     "data": {
      "image/png": "[encoded data removed]",
      "text/plain": [
       "<Figure size 1440x360 with 5 Axes>"
      ]
     },
     "metadata": {},
     "output_type": "display_data"
    }
   ],
   "source": [
    "plot_img_df(directory=training_dir, df=train_df, filename=\"id\", label=\"has_cactus\", count=5)"
   ]
  },
  {
   "cell_type": "markdown",
   "metadata": {
    "_uuid": "08472c5647d039fe88134dd5bbf51b1bacafe700"
   },
   "source": [
    "# 5. Preprocess"
   ]
  },
  {
   "cell_type": "markdown",
   "metadata": {
    "_uuid": "6368be0cd0b5b944d842b963bdfb9a8b22843510"
   },
   "source": [
    "#### During Preprocessing, all of the image has been transformed to target size (224, 224) and pixel value has been rescaled to unit value. (224, 224) is the input shape for Pretrained model \"NashNetMobile\". The target class is treated as categorical and both training and validation image set has been re-shuffled. Some of the images has been horizontally and vertically flipped randomly and sheerness and rotation has been changed to introduce heterogeneity. A part of training dataset has been used as validation set. "
   ]
  },
  {
   "cell_type": "code",
   "execution_count": 9,
   "metadata": {
    "_uuid": "5f0a5bf3d06e33bec36a8b9355483d3432d5c63f"
   },
   "outputs": [],
   "source": [
    "def get_data(batch_size=32, target_size=(299, 299), class_mode=\"categorical\", training_dir=training_dir, testing_dir=testing_dir):\n",
    "    print(\"Preprocessing and Generating Data Batches.......\\n\")\n",
    "    \n",
    "    rescale = 1.0/255\n",
    "\n",
    "    train_batch_size = batch_size\n",
    "    validation_batch_size = 128\n",
    "    test_batch_size = 128\n",
    "    \n",
    "    train_shuffle = True\n",
    "    val_shuffle = True\n",
    "    test_shuffle = False\n",
    "    \n",
    "    train_datagen = ImageDataGenerator(\n",
    "        horizontal_flip=True,\n",
    "        vertical_flip=True,\n",
    "        rotation_range=45,\n",
    "        shear_range=16,\n",
    "        rescale=rescale,\n",
    "        validation_split=0.25)\n",
    "\n",
    "    train_generator = train_datagen.flow_from_dataframe(\n",
    "        train_df, \n",
    "        training_dir,\n",
    "        x_col='id',\n",
    "        y_col='has_cactus',\n",
    "        target_size=target_size, \n",
    "        class_mode=class_mode, \n",
    "        batch_size=batch_size, \n",
    "        shuffle=True, \n",
    "        seed=42,\n",
    "        subset='training')\n",
    "    \n",
    "    validation_generator = train_datagen.flow_from_dataframe(\n",
    "        train_df, \n",
    "        training_dir,\n",
    "        x_col='id',\n",
    "        y_col='has_cactus',  \n",
    "        target_size=target_size, \n",
    "        class_mode=class_mode, \n",
    "        batch_size=validation_batch_size, \n",
    "        shuffle=True, \n",
    "        seed=42,\n",
    "        subset='validation')\n",
    "    \n",
    "    test_datagen = ImageDataGenerator(rescale=rescale)\n",
    "    \n",
    "    test_generator = test_datagen.flow_from_dataframe(\n",
    "        test_df, \n",
    "        testing_dir,\n",
    "        x_col='id',\n",
    "        y_col='has_cactus',\n",
    "        target_size=target_size, \n",
    "        class_mode=class_mode, \n",
    "        batch_size=test_batch_size, \n",
    "        shuffle=False, \n",
    "        seed=42)\n",
    "    \n",
    "    \n",
    "    class_weights = get_weight(train_generator.classes)\n",
    "    \n",
    "    steps_per_epoch = len(train_generator)\n",
    "    validation_steps = len(validation_generator)\n",
    "    \n",
    "    print(\"\\nPreprocessing and Data Batch Generation Completed.\\n\")\n",
    "    \n",
    "    \n",
    "    return train_generator, validation_generator, test_generator, class_weights, steps_per_epoch, validation_steps\n",
    "\n",
    "# Calculate Class Weights\n",
    "def get_weight(y):\n",
    "    class_weight_current =  cw.compute_class_weight('balanced', np.unique(y), y)\n",
    "    return class_weight_current"
   ]
  },
  {
   "cell_type": "markdown",
   "metadata": {
    "_uuid": "e02af0cac288607e1ae124f8242db9b1c05688c8"
   },
   "source": [
    "# 5. Model Function"
   ]
  },
  {
   "cell_type": "code",
   "execution_count": 10,
   "metadata": {
    "_uuid": "868b5798867b18a80f8d5b12957cd7965a0b65ae"
   },
   "outputs": [],
   "source": [
    "def get_model(model_name, input_shape=(96, 96, 3), num_class=2):\n",
    "    inputs = Input(input_shape)\n",
    "    \n",
    "    if model_name == \"Xception\":\n",
    "        base_model = Xception(include_top=False, input_shape=input_shape)\n",
    "    elif model_name == \"ResNet50\":\n",
    "        base_model = ResNet50(include_top=False, input_shape=input_shape)\n",
    "    elif model_name == \"InceptionV3\":\n",
    "        # base_model = InceptionV3(include_top=False, input_shape=input_shape)\n",
    "        base_model = InceptionV3(weights='imagenet', include_top=False, input_shape=input_shape)\n",
    "    elif model_name == \"InceptionResNetV2\":\n",
    "        base_model = InceptionResNetV2(include_top=False, input_shape=input_shape)\n",
    "    if model_name == \"DenseNet201\":\n",
    "        base_model = DenseNet201(include_top=False, input_shape=input_shape)\n",
    "    if model_name == \"NASNetMobile\":\n",
    "        base_model = NASNetMobile(include_top=False, input_shape=input_shape)\n",
    "    if model_name == \"NASNetLarge\":\n",
    "        base_model = NASNetLarge(include_top=False, input_shape=input_shape)\n",
    "            \n",
    "#     for layer in base_model.layers:\n",
    "#         layer.trainable = False\n",
    "        \n",
    "#     for layer in model.layers[:249]:\n",
    "#         layer.trainable = False\n",
    "#     for layer in model.layers[249:]:\n",
    "#         layer.trainable = True\n",
    "    \n",
    "    x = base_model(inputs)\n",
    "#     x = base_model.output\n",
    "    x = Dropout(0.5)(x)\n",
    "    x = GlobalAveragePooling2D()(x)\n",
    "    x = Dropout(0.5)(x)\n",
    "    x = BatchNormalization()(x)\n",
    "    x = Dropout(0.5)(x)    \n",
    "    if num_class>1:\n",
    "        outputs = Dense(num_class, activation=\"softmax\")(x)\n",
    "    else:\n",
    "        outputs = Dense(1, activation=\"sigmoid\")(x)\n",
    "\n",
    "    model = Model(inputs, outputs)\n",
    "\n",
    "#     x = base_model(inputs)\n",
    "    \n",
    "#     output1 = GlobalMaxPooling2D()(x)\n",
    "#     output2 = GlobalAveragePooling2D()(x)\n",
    "#     output3 = Flatten()(x)\n",
    "    \n",
    "#     outputs = Concatenate(axis=-1)([output1, output2, output3])\n",
    "    \n",
    "#     outputs = Dropout(0.5)(outputs)\n",
    "#     outputs = BatchNormalization()(outputs)\n",
    "    \n",
    "#     if num_class>1:\n",
    "#         outputs = Dense(num_class, activation=\"softmax\")(outputs)\n",
    "#     else:\n",
    "#         outputs = Dense(1, activation=\"sigmoid\")(outputs)\n",
    "        \n",
    "#     model = Model(inputs, outputs)\n",
    "    \n",
    "    model.summary()\n",
    "    \n",
    "    \n",
    "    return model\n",
    "\n",
    "# Changed Custom Convolutional Neural Network \n",
    "def get_conv_model(num_class=2, input_shape=(3,150,150)): # Changed\n",
    "    model = Sequential()\n",
    "    \n",
    "    model.add(Conv2D(32, (3, 3), activation='relu', padding=\"same\", input_shape=input_shape, use_bias=False, kernel_regularizer=l2(1e-4)))\n",
    "    model.add(BatchNormalization())\n",
    "    model.add(Activation('relu'))\n",
    "    model.add(Dropout(0.2))\n",
    "    model.add(Conv2D(32, (3, 3), activation='relu', padding=\"same\", use_bias=False, kernel_regularizer=l2(1e-4)))\n",
    "    model.add(BatchNormalization())\n",
    "    model.add(Activation('relu'))\n",
    "    model.add(Dropout(0.2))\n",
    "    model.add(Conv2D(32, (3, 3), activation='relu', padding=\"same\", use_bias=False, kernel_regularizer=l2(1e-4)))\n",
    "    model.add(BatchNormalization())\n",
    "    model.add(Activation('relu'))\n",
    "    model.add(Dropout(0.2))\n",
    "    model.add(MaxPooling2D())\n",
    "    model.add(Dropout(0.5))\n",
    "    \n",
    "    model.add(Conv2D(64, (3, 3), activation='relu', padding=\"same\", use_bias=False, kernel_regularizer=l2(1e-4)))\n",
    "    model.add(BatchNormalization())\n",
    "    model.add(Activation('relu'))\n",
    "    model.add(Dropout(0.2))\n",
    "    model.add(Conv2D(64, (3, 3), activation='relu', padding=\"same\", use_bias=False, kernel_regularizer=l2(1e-4)))\n",
    "    model.add(BatchNormalization())\n",
    "    model.add(Activation('relu'))\n",
    "    model.add(Dropout(0.2))\n",
    "    model.add(Conv2D(64, (3, 3), activation='relu', padding=\"same\", use_bias=False, kernel_regularizer=l2(1e-4)))\n",
    "    model.add(BatchNormalization())\n",
    "    model.add(Activation('relu'))\n",
    "    model.add(Dropout(0.2))\n",
    "    model.add(MaxPooling2D())\n",
    "    model.add(Dropout(0.5))\n",
    "    \n",
    "    model.add(Conv2D(128, (3, 3), activation='relu', padding=\"same\", use_bias=False, kernel_regularizer=l2(1e-4)))\n",
    "    model.add(BatchNormalization())\n",
    "    model.add(Activation('relu'))\n",
    "    model.add(Dropout(0.2))\n",
    "    model.add(Conv2D(128, (3, 3), activation='relu', padding=\"same\", use_bias=False, kernel_regularizer=l2(1e-4)))\n",
    "    model.add(BatchNormalization())\n",
    "    model.add(Activation('relu'))\n",
    "    model.add(Dropout(0.2))\n",
    "    model.add(Conv2D(128, (3, 3), activation='relu', padding=\"same\", use_bias=False, kernel_regularizer=l2(1e-4)))\n",
    "    model.add(BatchNormalization())\n",
    "    model.add(Activation('relu'))\n",
    "    model.add(Dropout(0.2))\n",
    "    model.add(MaxPooling2D())\n",
    "    model.add(Dropout(0.5))\n",
    "    \n",
    "\n",
    "    model.add(GlobalAveragePooling2D())\n",
    "    model.add(Dropout(0.5))\n",
    "        \n",
    "    model.add(Dense(256, activation = 'relu'))\n",
    "    model.add(BatchNormalization())\n",
    "    model.add(Dropout(0.5))\n",
    "    \n",
    "    if num_class>1:\n",
    "         model.add(Dense(num_class , activation='softmax'))\n",
    "    else:\n",
    "         model.add(Dense(num_class , activation='sigmoid'))\n",
    "\n",
    "            \n",
    "    print(model.summary())\n",
    "    \n",
    "    return model\n"
   ]
  },
  {
   "cell_type": "markdown",
   "metadata": {
    "_uuid": "3e56fcfe7a60a2759f1952f30f7fb05726b022c5"
   },
   "source": [
    "# 6. Output Configuration"
   ]
  },
  {
   "cell_type": "code",
   "execution_count": 11,
   "metadata": {
    "_uuid": "644c92b9756bb9fd1d980302a315d38298aa8472"
   },
   "outputs": [],
   "source": [
    "main_model_dir = output_directory + r\"models/\"\n",
    "main_log_dir = output_directory + r\"logs/\"\n",
    "\n",
    "try:\n",
    "    os.mkdir(main_model_dir)\n",
    "except:\n",
    "    print(\"Could not create main model directory\")\n",
    "    \n",
    "try:\n",
    "    os.mkdir(main_log_dir)\n",
    "except:\n",
    "    print(\"Could not create main log directory\")\n",
    "\n",
    "\n",
    "\n",
    "model_dir = main_model_dir + time.strftime('%Y-%m-%d %H-%M-%S') + \"/\"\n",
    "log_dir = main_log_dir + time.strftime('%Y-%m-%d %H-%M-%S')\n",
    "\n",
    "\n",
    "try:\n",
    "    os.mkdir(model_dir)\n",
    "except:\n",
    "    print(\"Could not create model directory\")\n",
    "    \n",
    "try:\n",
    "    os.mkdir(log_dir)\n",
    "except:\n",
    "    print(\"Could not create log directory\")\n",
    "    \n",
    "model_file = model_dir + \"{epoch:02d}-val_acc-{val_acc:.2f}-val_loss-{val_loss:.2f}.hdf5\""
   ]
  },
  {
   "cell_type": "markdown",
   "metadata": {
    "_uuid": "d5133db17f6ff324823b131eacc3fb471943adc1"
   },
   "source": [
    "## 6.2 Call Back Configuration"
   ]
  },
  {
   "cell_type": "code",
   "execution_count": 12,
   "metadata": {
    "_uuid": "104999913bc3bd3f1181b365fff5cc23f9a56ce7"
   },
   "outputs": [
    {
     "name": "stdout",
     "output_type": "stream",
     "text": [
      "Settting Callbacks\n",
      "Set Callbacks at  Timestamp: 2019-03-19 22:36:28\n"
     ]
    }
   ],
   "source": [
    "print(\"Settting Callbacks\")\n",
    "\n",
    "checkpoint = ModelCheckpoint(\n",
    "    model_file, \n",
    "    monitor='val_acc', \n",
    "    save_best_only=True)\n",
    "\n",
    "early_stopping = EarlyStopping(\n",
    "    monitor='val_loss',\n",
    "    patience=10,\n",
    "    verbose=1,\n",
    "    restore_best_weights=True)\n",
    "\n",
    "\n",
    "reduce_lr = ReduceLROnPlateau(\n",
    "    monitor='val_loss',\n",
    "    factor=0.5,\n",
    "    patience=1,\n",
    "    verbose=1)\n",
    "\n",
    "callbacks = [checkpoint, reduce_lr, early_stopping]\n",
    "\n",
    "print(\"Set Callbacks at \", date_time(1))"
   ]
  },
  {
   "cell_type": "markdown",
   "metadata": {
    "_uuid": "6fbe80b2f63f0b9972c1546b088b667331108aa5"
   },
   "source": [
    "# 7. Model"
   ]
  },
  {
   "cell_type": "code",
   "execution_count": 13,
   "metadata": {
    "_uuid": "27dc13b90ff17042f2912f50ef4a8ad288f9914f"
   },
   "outputs": [
    {
     "name": "stdout",
     "output_type": "stream",
     "text": [
      "Getting Base Model Timestamp: 2019-03-19 22:36:28\n",
      "_________________________________________________________________\n",
      "Layer (type)                 Output Shape              Param #   \n",
      "=================================================================\n",
      "conv2d_1 (Conv2D)            (None, 32, 32, 32)        864       \n",
      "_________________________________________________________________\n",
      "batch_normalization_1 (Batch (None, 32, 32, 32)        128       \n",
      "_________________________________________________________________\n",
      "activation_1 (Activation)    (None, 32, 32, 32)        0         \n",
      "_________________________________________________________________\n",
      "dropout_1 (Dropout)          (None, 32, 32, 32)        0         \n",
      "_________________________________________________________________\n",
      "conv2d_2 (Conv2D)            (None, 32, 32, 32)        9216      \n",
      "_________________________________________________________________\n",
      "batch_normalization_2 (Batch (None, 32, 32, 32)        128       \n",
      "_________________________________________________________________\n",
      "activation_2 (Activation)    (None, 32, 32, 32)        0         \n",
      "_________________________________________________________________\n",
      "dropout_2 (Dropout)          (None, 32, 32, 32)        0         \n",
      "_________________________________________________________________\n",
      "conv2d_3 (Conv2D)            (None, 32, 32, 32)        9216      \n",
      "_________________________________________________________________\n",
      "batch_normalization_3 (Batch (None, 32, 32, 32)        128       \n",
      "_________________________________________________________________\n",
      "activation_3 (Activation)    (None, 32, 32, 32)        0         \n",
      "_________________________________________________________________\n",
      "dropout_3 (Dropout)          (None, 32, 32, 32)        0         \n",
      "_________________________________________________________________\n",
      "max_pooling2d_1 (MaxPooling2 (None, 16, 16, 32)        0         \n",
      "_________________________________________________________________\n",
      "dropout_4 (Dropout)          (None, 16, 16, 32)        0         \n",
      "_________________________________________________________________\n",
      "conv2d_4 (Conv2D)            (None, 16, 16, 64)        18432     \n",
      "_________________________________________________________________\n",
      "batch_normalization_4 (Batch (None, 16, 16, 64)        256       \n",
      "_________________________________________________________________\n",
      "activation_4 (Activation)    (None, 16, 16, 64)        0         \n",
      "_________________________________________________________________\n",
      "dropout_5 (Dropout)          (None, 16, 16, 64)        0         \n",
      "_________________________________________________________________\n",
      "conv2d_5 (Conv2D)            (None, 16, 16, 64)        36864     \n",
      "_________________________________________________________________\n",
      "batch_normalization_5 (Batch (None, 16, 16, 64)        256       \n",
      "_________________________________________________________________\n",
      "activation_5 (Activation)    (None, 16, 16, 64)        0         \n",
      "_________________________________________________________________\n",
      "dropout_6 (Dropout)          (None, 16, 16, 64)        0         \n",
      "_________________________________________________________________\n",
      "conv2d_6 (Conv2D)            (None, 16, 16, 64)        36864     \n",
      "_________________________________________________________________\n",
      "batch_normalization_6 (Batch (None, 16, 16, 64)        256       \n",
      "_________________________________________________________________\n",
      "activation_6 (Activation)    (None, 16, 16, 64)        0         \n",
      "_________________________________________________________________\n",
      "dropout_7 (Dropout)          (None, 16, 16, 64)        0         \n",
      "_________________________________________________________________\n",
      "max_pooling2d_2 (MaxPooling2 (None, 8, 8, 64)          0         \n",
      "_________________________________________________________________\n",
      "dropout_8 (Dropout)          (None, 8, 8, 64)          0         \n",
      "_________________________________________________________________\n",
      "conv2d_7 (Conv2D)            (None, 8, 8, 128)         73728     \n",
      "_________________________________________________________________\n",
      "batch_normalization_7 (Batch (None, 8, 8, 128)         512       \n",
      "_________________________________________________________________\n",
      "activation_7 (Activation)    (None, 8, 8, 128)         0         \n",
      "_________________________________________________________________\n",
      "dropout_9 (Dropout)          (None, 8, 8, 128)         0         \n",
      "_________________________________________________________________\n",
      "conv2d_8 (Conv2D)            (None, 8, 8, 128)         147456    \n",
      "_________________________________________________________________\n",
      "batch_normalization_8 (Batch (None, 8, 8, 128)         512       \n",
      "_________________________________________________________________\n",
      "activation_8 (Activation)    (None, 8, 8, 128)         0         \n",
      "_________________________________________________________________\n",
      "dropout_10 (Dropout)         (None, 8, 8, 128)         0         \n",
      "_________________________________________________________________\n",
      "conv2d_9 (Conv2D)            (None, 8, 8, 128)         147456    \n",
      "_________________________________________________________________\n",
      "batch_normalization_9 (Batch (None, 8, 8, 128)         512       \n",
      "_________________________________________________________________\n",
      "activation_9 (Activation)    (None, 8, 8, 128)         0         \n",
      "_________________________________________________________________\n",
      "dropout_11 (Dropout)         (None, 8, 8, 128)         0         \n",
      "_________________________________________________________________\n",
      "max_pooling2d_3 (MaxPooling2 (None, 4, 4, 128)         0         \n",
      "_________________________________________________________________\n",
      "dropout_12 (Dropout)         (None, 4, 4, 128)         0         \n",
      "_________________________________________________________________\n",
      "global_average_pooling2d_1 ( (None, 128)               0         \n",
      "_________________________________________________________________\n",
      "dropout_13 (Dropout)         (None, 128)               0         \n",
      "_________________________________________________________________\n",
      "dense_1 (Dense)              (None, 256)               33024     \n",
      "_________________________________________________________________\n",
      "batch_normalization_10 (Batc (None, 256)               1024      \n",
      "_________________________________________________________________\n",
      "dropout_14 (Dropout)         (None, 256)               0         \n",
      "_________________________________________________________________\n",
      "dense_2 (Dense)              (None, 2)                 514       \n",
      "=================================================================\n",
      "Total params: 517,346\n",
      "Trainable params: 515,490\n",
      "Non-trainable params: 1,856\n",
      "_________________________________________________________________\n",
      "None\n",
      "Loaded Base Model Timestamp: 2019-03-19 22:36:31\n"
     ]
    }
   ],
   "source": [
    "print(\"Getting Base Model\", date_time(1))\n",
    "\n",
    "input_shape = (32, 32, 3)\n",
    "# input_shape = (224, 224, 3)\n",
    "\n",
    "num_class = len(train_df['has_cactus'].unique())\n",
    "\n",
    "\n",
    "# model = get_model(model_name=\"InceptionV3\", input_shape=input_shape, num_class=num_class)\n",
    "model = get_conv_model(num_class=num_class, input_shape=input_shape)\n",
    "print(\"Loaded Base Model\", date_time(1))"
   ]
  },
  {
   "cell_type": "code",
   "execution_count": 14,
   "metadata": {
    "_uuid": "77a593fffaf1b82c2b82bbfd8d5335bc7995a6bf"
   },
   "outputs": [],
   "source": [
    "loss = 'categorical_crossentropy'\n",
    "# loss = 'binary_crossentropy'\n",
    "metrics = ['acc']\n",
    "# metrics = [auroc]"
   ]
  },
  {
   "cell_type": "markdown",
   "metadata": {
    "_uuid": "c975187a17a5e9d07ff15484cac2824fcab1fd53"
   },
   "source": [
    "# 8. Data"
   ]
  },
  {
   "cell_type": "code",
   "execution_count": 15,
   "metadata": {
    "_uuid": "6daf75886fbc7d444222398f04637e5cc4aed9e7"
   },
   "outputs": [
    {
     "name": "stdout",
     "output_type": "stream",
     "text": [
      "Preprocessing and Generating Data Batches.......\n",
      "\n",
      "Found 13125 images belonging to 2 classes.\n",
      "Found 4375 images belonging to 2 classes.\n",
      "Found 4000 images belonging to 1 classes.\n",
      "\n",
      "Preprocessing and Data Batch Generation Completed.\n",
      "\n"
     ]
    }
   ],
   "source": [
    "# batch_size = 32\n",
    "batch_size = 32\n",
    "\n",
    "class_mode = \"categorical\"\n",
    "# class_mode = \"binary\"\n",
    "\n",
    "target_size=(32, 32)\n",
    "# target_size=(224, 224)\n",
    "\n",
    "train_generator, validation_generator, test_generator, class_weights, steps_per_epoch, validation_steps = get_data(batch_size=batch_size, target_size=target_size, class_mode=class_mode)"
   ]
  },
  {
   "cell_type": "markdown",
   "metadata": {
    "_uuid": "cd11c2eb7719f3f866c9e9ee201ca67e556fc73b"
   },
   "source": [
    "\n",
    "# 9. Training"
   ]
  },
  {
   "cell_type": "markdown",
   "metadata": {
    "_uuid": "8e335384316089698ee7e1a2f2cd1d6ad2ed4df9"
   },
   "source": [
    "#### Trained model on full tranning dataset for 10 epochs and validated on full validation dataset. Adjusted class weight has been used for trainning. For optimization used Adam optimizer with learning rate of 0.0001. For loss calculation used categorical crossentropy and for model performance evaluation used accuracy metrics.  "
   ]
  },
  {
   "cell_type": "code",
   "execution_count": 16,
   "metadata": {
    "_uuid": "5ac153e86d2338beab9cb0a3693f9c61fe7d3f04",
    "scrolled": true
   },
   "outputs": [
    {
     "name": "stdout",
     "output_type": "stream",
     "text": [
      "Starting Trainning ...\n",
      "\n",
      "Timestamp: 2019-03-19 22:36:39\n",
      "\n",
      "\n",
      "Compliling Model ...\n",
      "\n",
      "Trainning Model ...\n",
      "\n",
      "Epoch 1/100\n",
      "411/411 [==============================] - 36s 88ms/step - loss: 0.4910 - acc: 0.8244 - val_loss: 0.8814 - val_acc: 0.7525\n",
      "Epoch 2/100\n",
      "411/411 [==============================] - 24s 59ms/step - loss: 0.2799 - acc: 0.9172 - val_loss: 0.9136 - val_acc: 0.5490\n",
      "\n",
      "Epoch 00002: ReduceLROnPlateau reducing learning rate to 0.0005000000237487257.\n",
      "Epoch 3/100\n",
      "411/411 [==============================] - 25s 60ms/step - loss: 0.2295 - acc: 0.9372 - val_loss: 1.3464 - val_acc: 0.1881\n",
      "\n",
      "Epoch 00003: ReduceLROnPlateau reducing learning rate to 0.0002500000118743628.\n",
      "Epoch 4/100\n",
      "411/411 [==============================] - 24s 58ms/step - loss: 0.2048 - acc: 0.9499 - val_loss: 1.6930 - val_acc: 0.1051\n",
      "\n",
      "Epoch 00004: ReduceLROnPlateau reducing learning rate to 0.0001250000059371814.\n",
      "Epoch 5/100\n",
      "411/411 [==============================] - 24s 58ms/step - loss: 0.1892 - acc: 0.9554 - val_loss: 1.4926 - val_acc: 0.1577\n",
      "\n",
      "Epoch 00005: ReduceLROnPlateau reducing learning rate to 6.25000029685907e-05.\n",
      "Epoch 6/100\n",
      "411/411 [==============================] - 25s 62ms/step - loss: 0.1822 - acc: 0.9588 - val_loss: 1.1378 - val_acc: 0.2560\n",
      "\n",
      "Epoch 00006: ReduceLROnPlateau reducing learning rate to 3.125000148429535e-05.\n",
      "Epoch 7/100\n",
      "411/411 [==============================] - 24s 58ms/step - loss: 0.1831 - acc: 0.9594 - val_loss: 1.4792 - val_acc: 0.1442\n",
      "\n",
      "Epoch 00007: ReduceLROnPlateau reducing learning rate to 1.5625000742147677e-05.\n",
      "Epoch 8/100\n",
      "411/411 [==============================] - 24s 59ms/step - loss: 0.1734 - acc: 0.9605 - val_loss: 1.4283 - val_acc: 0.1504\n",
      "\n",
      "Epoch 00008: ReduceLROnPlateau reducing learning rate to 7.812500371073838e-06.\n",
      "Epoch 9/100\n",
      "411/411 [==============================] - 25s 61ms/step - loss: 0.1739 - acc: 0.9608 - val_loss: 1.4251 - val_acc: 0.1477\n",
      "\n",
      "Epoch 00009: ReduceLROnPlateau reducing learning rate to 3.906250185536919e-06.\n",
      "Epoch 10/100\n",
      "411/411 [==============================] - 24s 58ms/step - loss: 0.1739 - acc: 0.9616 - val_loss: 1.4235 - val_acc: 0.1623\n",
      "\n",
      "Epoch 00010: ReduceLROnPlateau reducing learning rate to 1.9531250927684596e-06.\n",
      "Epoch 11/100\n",
      "411/411 [==============================] - 24s 59ms/step - loss: 0.1764 - acc: 0.9609 - val_loss: 1.4213 - val_acc: 0.1499\n",
      "\n",
      "Epoch 00011: ReduceLROnPlateau reducing learning rate to 9.765625463842298e-07.\n",
      "Restoring model weights from the end of the best epoch\n",
      "Epoch 00011: early stopping\n",
      "\n",
      "Elapsed Time: 00:04:43\n",
      "Completed Model Trainning Timestamp: 2019-03-19 22:41:22\n"
     ]
    }
   ],
   "source": [
    "print(\"Starting Trainning ...\\n\")\n",
    "\n",
    "start_time = time.time()\n",
    "print(date_time(1))\n",
    "\n",
    "# batch_size = 32\n",
    "# train_generator, validation_generator, test_generator, class_weights, steps_per_epoch, validation_steps = get_data(batch_size=batch_size)\n",
    "\n",
    "print(\"\\n\\nCompliling Model ...\\n\")\n",
    "# learning_rate = 0.0001\n",
    "# optimizer = Adam(learning_rate)\n",
    "optimizer = Adam()\n",
    "\n",
    "model.compile(optimizer=optimizer, loss=loss, metrics=metrics)\n",
    "\n",
    "# steps_per_epoch = 180\n",
    "# validation_steps = 40\n",
    "\n",
    "verbose = 1\n",
    "epochs = 100\n",
    "\n",
    "print(\"Trainning Model ...\\n\")\n",
    "history = model.fit_generator(\n",
    "    train_generator,\n",
    "    steps_per_epoch=steps_per_epoch,\n",
    "    epochs=epochs,\n",
    "    verbose=verbose,\n",
    "    callbacks=callbacks,\n",
    "    validation_data=validation_generator,\n",
    "    validation_steps=validation_steps, \n",
    "    class_weight=class_weights)\n",
    "\n",
    "elapsed_time = time.time() - start_time\n",
    "elapsed_time = time.strftime(\"%H:%M:%S\", time.gmtime(elapsed_time))\n",
    "\n",
    "print(\"\\nElapsed Time: \" + elapsed_time)\n",
    "print(\"Completed Model Trainning\", date_time(1))"
   ]
  },
  {
   "cell_type": "markdown",
   "metadata": {
    "_uuid": "36b7d58a68aa0603ac98b4f3fdcad627b918642d"
   },
   "source": [
    "# 10. Model Performance \n",
    "Model Performance  Visualization over the Epochs"
   ]
  },
  {
   "cell_type": "code",
   "execution_count": 17,
   "metadata": {
    "_uuid": "361892313801cd84bc66a62e5347c20c6c86e6fe"
   },
   "outputs": [],
   "source": [
    "def plot_performance(history=None, figure_directory=None):\n",
    "    xlabel = 'Epoch'\n",
    "    legends = ['Training', 'Validation']\n",
    "\n",
    "    ylim_pad = [0.005, 0.005]\n",
    "    ylim_pad = [0, 0]\n",
    "\n",
    "\n",
    "    plt.figure(figsize=(20, 5))\n",
    "\n",
    "    # Plot training & validation Accuracy values\n",
    "\n",
    "    y1 = history.history['acc']\n",
    "    y2 = history.history['val_acc']\n",
    "\n",
    "    min_y = min(min(y1), min(y2))-ylim_pad[0]\n",
    "    max_y = max(max(y1), max(y2))+ylim_pad[0]\n",
    "    \n",
    "    min_y = .96\n",
    "    max_y = 1\n",
    "\n",
    "\n",
    "    plt.subplot(121)\n",
    "\n",
    "    plt.plot(y1)\n",
    "    plt.plot(y2)\n",
    "\n",
    "    plt.title('Model Accuracy\\n'+date_time(1), fontsize=17)\n",
    "    plt.xlabel(xlabel, fontsize=15)\n",
    "    plt.ylabel('Accuracy', fontsize=15)\n",
    "    plt.ylim(min_y, max_y)\n",
    "    plt.legend(legends, loc='upper left')\n",
    "    plt.grid()\n",
    "\n",
    "\n",
    "    # Plot training & validation loss values\n",
    "\n",
    "    y1 = history.history['loss']\n",
    "    y2 = history.history['val_loss']\n",
    "\n",
    "    min_y = min(min(y1), min(y2))-ylim_pad[1]\n",
    "    max_y = max(max(y1), max(y2))+ylim_pad[1]\n",
    "\n",
    "    min_y = .1\n",
    "    max_y = 0\n",
    "\n",
    "    plt.subplot(122)\n",
    "\n",
    "    plt.plot(y1)\n",
    "    plt.plot(y2)\n",
    "\n",
    "    plt.title('Model Loss\\n'+date_time(1), fontsize=17)\n",
    "    plt.xlabel(xlabel, fontsize=15)\n",
    "    plt.ylabel('Loss', fontsize=15)\n",
    "    plt.ylim(min_y, max_y)\n",
    "    plt.legend(legends, loc='upper left')\n",
    "    plt.grid()\n",
    "    if figure_directory:\n",
    "        plt.savefig(figure_directory+\"/history\")\n",
    "\n",
    "    plt.show()"
   ]
  },
  {
   "cell_type": "code",
   "execution_count": 18,
   "metadata": {
    "_uuid": "84f9360eb9554faaeaae16fbd5e9994b9c550c76"
   },
   "outputs": [
    {
     "data": {
      "image/png": "[encoded data removed]",
      "text/plain": [
       "<Figure size 1440x360 with 2 Axes>"
      ]
     },
     "metadata": {},
     "output_type": "display_data"
    }
   ],
   "source": [
    "plot_performance(history=history)"
   ]
  },
  {
   "cell_type": "code",
   "execution_count": 19,
   "metadata": {
    "_uuid": "22c09d411cfaed347995ec8308be13f2d848efe8"
   },
   "outputs": [
    {
     "name": "stdout",
     "output_type": "stream",
     "text": [
      "32/32 [==============================] - 4s 126ms/step\n"
     ]
    }
   ],
   "source": [
    "ypreds = model.predict_generator(generator=test_generator, steps = len(test_generator),  verbose=1)"
   ]
  },
  {
   "cell_type": "code",
   "execution_count": 20,
   "metadata": {
    "_uuid": "6f50d50f3e253212ed1083713ff6dcb16e893001"
   },
   "outputs": [],
   "source": [
    "ypred = ypreds[:,1]"
   ]
  },
  {
   "cell_type": "code",
   "execution_count": 21,
   "metadata": {
    "_uuid": "df80b0e5cf43281938ba36310a7defba935510b0"
   },
   "outputs": [],
   "source": [
    "sample_df = pd.read_csv(input_directory+\"sample_submission.csv\")\n",
    "sample_list = list(sample_df.id)\n",
    "\n",
    "pred_dict = dict((key, value) for (key, value) in zip(test_generator.filenames, ypred))\n",
    "\n",
    "pred_list_new = [pred_dict[f] for f in sample_list]\n",
    "\n",
    "test_df = pd.DataFrame({'id':sample_list,'has_cactus':pred_list_new})\n",
    "\n",
    "test_df.to_csv('submission.csv', header=True, index=False)"
   ]
  },
  {
   "cell_type": "code",
   "execution_count": 22,
   "metadata": {
    "_uuid": "64d369c0ed77ca5996c00c9b4ff23e8a31ba290b"
   },
   "outputs": [
    {
     "data": {
      "text/html": [
       "<div>\n",
       "<style scoped>\n",
       "    .dataframe tbody tr th:only-of-type {\n",
       "        vertical-align: middle;\n",
       "    }\n",
       "\n",
       "    .dataframe tbody tr th {\n",
       "        vertical-align: top;\n",
       "    }\n",
       "\n",
       "    .dataframe thead th {\n",
       "        text-align: right;\n",
       "    }\n",
       "</style>\n",
       "<table border=\"1\" class=\"dataframe\">\n",
       "  <thead>\n",
       "    <tr style=\"text-align: right;\">\n",
       "      <th></th>\n",
       "      <th>id</th>\n",
       "      <th>has_cactus</th>\n",
       "    </tr>\n",
       "  </thead>\n",
       "  <tbody>\n",
       "    <tr>\n",
       "      <th>0</th>\n",
       "      <td>000940378805c44108d287872b2f04ce.jpg</td>\n",
       "      <td>0.032185</td>\n",
       "    </tr>\n",
       "    <tr>\n",
       "      <th>1</th>\n",
       "      <td>0017242f54ececa4512b4d7937d1e21e.jpg</td>\n",
       "      <td>0.136419</td>\n",
       "    </tr>\n",
       "    <tr>\n",
       "      <th>2</th>\n",
       "      <td>001ee6d8564003107853118ab87df407.jpg</td>\n",
       "      <td>0.150044</td>\n",
       "    </tr>\n",
       "    <tr>\n",
       "      <th>3</th>\n",
       "      <td>002e175c3c1e060769475f52182583d0.jpg</td>\n",
       "      <td>0.001522</td>\n",
       "    </tr>\n",
       "    <tr>\n",
       "      <th>4</th>\n",
       "      <td>0036e44a7e8f7218e9bc7bf8137e4943.jpg</td>\n",
       "      <td>0.080139</td>\n",
       "    </tr>\n",
       "  </tbody>\n",
       "</table>\n",
       "</div>"
      ],
      "text/plain": [
       "                                     id  has_cactus\n",
       "0  000940378805c44108d287872b2f04ce.jpg    0.032185\n",
       "1  0017242f54ececa4512b4d7937d1e21e.jpg    0.136419\n",
       "2  001ee6d8564003107853118ab87df407.jpg    0.150044\n",
       "3  002e175c3c1e060769475f52182583d0.jpg    0.001522\n",
       "4  0036e44a7e8f7218e9bc7bf8137e4943.jpg    0.080139"
      ]
     },
     "execution_count": 22,
     "metadata": {},
     "output_type": "execute_result"
    }
   ],
   "source": [
    "test_df.head()"
   ]
  },
  {
   "cell_type": "code",
   "execution_count": 23,
   "metadata": {
    "_uuid": "d7b91e051fd092c1ee3dcea03c67ea779c6fa8b4"
   },
   "outputs": [],
   "source": []
  }
 ],
 "metadata": {
  "kernelspec": {
   "display_name": "Python 3",
   "language": "python",
   "name": "python3"
  },
  "language_info": {
   "codemirror_mode": {
    "name": "ipython",
    "version": 3
   },
   "file_extension": ".py",
   "mimetype": "text/x-python",
   "name": "python",
   "nbconvert_exporter": "python",
   "pygments_lexer": "ipython3",
   "version": "3.6.6"
  }
 },
 "nbformat": 4,
 "nbformat_minor": 1
}
